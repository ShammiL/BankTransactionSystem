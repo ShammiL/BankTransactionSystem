{
  "nbformat": 4,
  "nbformat_minor": 0,
  "metadata": {
    "colab": {
      "name": "Augmentation.ipynb",
      "provenance": [],
      "collapsed_sections": [],
      "include_colab_link": true
    },
    "kernelspec": {
      "name": "python3",
      "display_name": "Python 3"
    },
    "language_info": {
      "name": "python"
    }
  },
  "cells": [
    {
      "cell_type": "markdown",
      "metadata": {
        "id": "view-in-github",
        "colab_type": "text"
      },
      "source": [
        "<a href=\"https://colab.research.google.com/github/ShammiL/BankTransactionSystem/blob/master/Augmentation.ipynb\" target=\"_parent\"><img src=\"https://colab.research.google.com/assets/colab-badge.svg\" alt=\"Open In Colab\"/></a>"
      ]
    },
    {
      "cell_type": "code",
      "execution_count": null,
      "metadata": {
        "id": "HRDn4YdCa_XT"
      },
      "outputs": [],
      "source": [
        "import glob\n",
        "import cv2\n",
        "import os\n",
        "import numpy as np\n",
        "from matplotlib import pyplot as plt\n",
        "import keras \n",
        "import gc\n",
        "import albumentations as A\n"
      ]
    },
    {
      "cell_type": "code",
      "source": [
        "import tensorflow as tf"
      ],
      "metadata": {
        "id": "WfCoOcX2eZzN"
      },
      "execution_count": null,
      "outputs": []
    },
    {
      "cell_type": "code",
      "source": [
        "import pandas as pd\n",
        "from google.colab.patches import cv2_imshow"
      ],
      "metadata": {
        "id": "5JnWUR_Eb-wZ"
      },
      "execution_count": null,
      "outputs": []
    },
    {
      "cell_type": "code",
      "source": [
        "from google.colab import drive\n",
        "drive.mount('/content/drive')"
      ],
      "metadata": {
        "id": "p60XAXidzhBN",
        "colab": {
          "base_uri": "https://localhost:8080/"
        },
        "outputId": "345a75d3-3825-4b33-8fa0-8eb35e18a3b0"
      },
      "execution_count": null,
      "outputs": [
        {
          "output_type": "stream",
          "name": "stdout",
          "text": [
            "Drive already mounted at /content/drive; to attempt to forcibly remount, call drive.mount(\"/content/drive\", force_remount=True).\n"
          ]
        }
      ]
    },
    {
      "cell_type": "code",
      "source": [
        "import os\n",
        "import numpy as np # linear algebra\n",
        "import pandas as pd # data processing, CSV file I/O (e.g. pd.read_csv)\n",
        "\n",
        "import imageio\n",
        "\n",
        "import matplotlib.pyplot as plt\n",
        "%matplotlib inline\n",
        "from google.colab.patches import cv2_imshow"
      ],
      "metadata": {
        "id": "h9hfGSM4cIf_"
      },
      "execution_count": null,
      "outputs": []
    },
    {
      "cell_type": "code",
      "source": [
        "!cp -r '/content/drive/Shareddrives/fyp/dataset/segmented dataset/.' '/content/segmented dataset'"
      ],
      "metadata": {
        "id": "jONrmYywcRZO",
        "colab": {
          "base_uri": "https://localhost:8080/"
        },
        "outputId": "1d0bcea8-b51d-4773-bb76-98a196fa1f91"
      },
      "execution_count": null,
      "outputs": [
        {
          "output_type": "stream",
          "name": "stdout",
          "text": [
            "^C\n"
          ]
        }
      ]
    },
    {
      "cell_type": "markdown",
      "metadata": {
        "id": "IOzas8Yc-sFa"
      },
      "source": [
        "<a name='2'></a>\n",
        "## 2 - Load and Split the Data"
      ]
    },
    {
      "cell_type": "code",
      "execution_count": null,
      "metadata": {
        "id": "FWpkuq4tfU4i"
      },
      "outputs": [],
      "source": [
        "path = '/content/segmented dataset'\n",
        "image_path_covid = os.path.join(path, './COVID/images/')\n",
        "mask_path_covid = os.path.join(path, './COVID/masks/')\n",
        "\n"
      ]
    },
    {
      "cell_type": "code",
      "source": [
        "image_path_normal = os.path.join(path, './Normal/images/')\n",
        "mask_path_normal = os.path.join(path, './Normal/masks/')\n"
      ],
      "metadata": {
        "id": "-mWDk6Gnidge"
      },
      "execution_count": null,
      "outputs": []
    },
    {
      "cell_type": "code",
      "source": [
        "image_list_covid = os.listdir(image_path_covid)\n",
        "mask_list_covid = os.listdir(mask_path_covid)\n",
        "\n",
        "image_list_covid.sort()\n",
        "mask_list_covid.sort()\n",
        "\n",
        "image_list_normal = os.listdir(image_path_normal)\n",
        "mask_list_normal = os.listdir(mask_path_normal)\n",
        "\n",
        "image_list_normal.sort()\n",
        "mask_list_normal.sort()"
      ],
      "metadata": {
        "id": "KwjJGwlmjyuW"
      },
      "execution_count": null,
      "outputs": []
    },
    {
      "cell_type": "code",
      "source": [
        "len(image_list_normal)"
      ],
      "metadata": {
        "colab": {
          "base_uri": "https://localhost:8080/"
        },
        "id": "xzs4oysZErDb",
        "outputId": "45171260-af3b-4aa1-bd28-753c4c81dabd"
      },
      "execution_count": null,
      "outputs": [
        {
          "output_type": "execute_result",
          "data": {
            "text/plain": [
              "1602"
            ]
          },
          "metadata": {},
          "execution_count": 66
        }
      ]
    },
    {
      "cell_type": "markdown",
      "source": [
        "###Preprocess Data"
      ],
      "metadata": {
        "id": "MtbgOlHLFoE_"
      }
    },
    {
      "cell_type": "code",
      "source": [
        "H = 512\n",
        "W = 512"
      ],
      "metadata": {
        "id": "1flOBfd7d9PM"
      },
      "execution_count": null,
      "outputs": []
    },
    {
      "cell_type": "code",
      "source": [
        "def read_image(path):\n",
        "    x = cv2.imread(path, cv2.IMREAD_COLOR)\n",
        "    x = cv2.resize(x, (W, H))\n",
        "    x = x.astype(np.float32)\n",
        "    return x"
      ],
      "metadata": {
        "id": "w9L-BHEI3VPR"
      },
      "execution_count": null,
      "outputs": []
    },
    {
      "cell_type": "code",
      "source": [
        "def read_mask(path):\n",
        "    x = cv2.imread(path, cv2.IMREAD_GRAYSCALE)\n",
        "    x = cv2.resize(x, (W, H))\n",
        "    x = x.astype(np.float32)\n",
        "    x = np.expand_dims(x, axis=-1)\n",
        "    return x"
      ],
      "metadata": {
        "id": "Ohwo2rzt3gi8"
      },
      "execution_count": null,
      "outputs": []
    },
    {
      "cell_type": "markdown",
      "source": [
        "###Add Augmentation"
      ],
      "metadata": {
        "id": "e-MYkjSDdJJN"
      }
    },
    {
      "cell_type": "code",
      "source": [
        "transform_centerCrop = A.Compose([\n",
        "   A.CenterCrop(H, W),\n",
        "])\n",
        "transform_HorizontalFlip = A.Compose([\n",
        "   A.HorizontalFlip(p=1),\n",
        "])\n",
        "transform_VerticalFlip = A.Compose([\n",
        "   A.VerticalFlip(p=1),\n",
        "])\n",
        "transform_Transpose = A.Compose([\n",
        "   A.Transpose(p=1),\n",
        "])\n",
        "transform_5 = A.Compose([\n",
        "   A.Transpose(p=1),\n",
        "   A.HorizontalFlip(p=1)\n",
        "])\n",
        "transform_6 = A.Compose([\n",
        "   A.Transpose(p=1),\n",
        "   A.VerticalFlip(p=1)\n",
        "])\n",
        "transform_7 = A.Compose([\n",
        "   A.HorizontalFlip(p=1),\n",
        "   A.VerticalFlip(p=1)\n",
        "])\n",
        "transform_8 = A.Compose([\n",
        "   A.Transpose(p=1),\n",
        "   A.CenterCrop(H, W),\n",
        "])\n",
        "\n",
        "transform_9 = A.Compose([\n",
        "   A.VerticalFlip(p=1),\n",
        "   A.CenterCrop(H, W),\n",
        "])\n",
        "\n",
        "# transform_Rotate = A.Compose([\n",
        "#    A.Rotate(p=1, limit=(-30, 30)),\n",
        "# ])\n",
        "# transform_OpticalDistortion = A.Compose([\n",
        "#    A.OpticalDistortion(distort_limit=2, shift_limit=0.5, p=1),\n",
        "# ])\n",
        "# transform_ShiftScaleRotate = A.Compose([\n",
        "#    A.ShiftScaleRotate (shift_limit=0.0625, scale_limit=0.1, rotate_limit=45, interpolation=1, border_mode=4, always_apply=True, p=1),\n",
        "# ])\n",
        "# transform_centerCrop = A.Compose([\n",
        "#    A.CenterCrop(100, 100),\n",
        "# ])"
      ],
      "metadata": {
        "id": "gZPlCg5xdJJN"
      },
      "execution_count": null,
      "outputs": []
    },
    {
      "cell_type": "code",
      "source": [
        "covid_image_path = '/content/drive/Shareddrives/fyp/dataset/augmented-v7/COVID/images'\n",
        "covid_mask_path = '/content/drive/Shareddrives/fyp/dataset/augmented-v7/COVID/masks'\n",
        "normal_image_path = '/content/drive/Shareddrives/fyp/dataset/augmented-v7/Normal/images'\n",
        "normal_mask_path = '/content/drive/Shareddrives/fyp/dataset/augmented-v7/Normal/masks'"
      ],
      "metadata": {
        "id": "EswrSuEvpzcV"
      },
      "execution_count": null,
      "outputs": []
    },
    {
      "cell_type": "code",
      "source": [
        "def covid_augmentation(input_image, input_mask, file_name):\n",
        "  # original\n",
        "  \n",
        "  image = np.array(input_image)\n",
        "  mask = np.array(input_mask)\n",
        "\n",
        "  cv2.imwrite(covid_image_path + '/' + file_name, image)\n",
        "  cv2.imwrite(covid_mask_path + '/' + file_name, mask)\n",
        "\n",
        "\n",
        "  # 1\n",
        "  transformed = transform_Transpose(image=image, mask=mask)\n",
        "  transformed_image = transformed['image']\n",
        "  transformed_mask = transformed['mask']\n",
        "\n",
        "  \n",
        "  name = file_name.split('.')\n",
        "  cv2.imwrite(covid_image_path + '/' + name[0] + '_1.' + name[1], transformed_image)\n",
        "  cv2.imwrite(covid_mask_path + '/' + name[0] + '_1.' + name[1], transformed_mask)\n",
        "\n",
        "  # 2\n",
        "  transformed = transform_centerCrop(image=image, mask=mask)\n",
        "  transformed_image = transformed['image']\n",
        "  transformed_mask = transformed['mask']\n",
        "\n",
        "  \n",
        "  cv2.imwrite(covid_image_path + '/' + name[0] + '_2.' + name[1], transformed_image)\n",
        "  cv2.imwrite(covid_mask_path + '/' + name[0] + '_2.' + name[1], transformed_mask)\n",
        "\n",
        "  # 3\n",
        "  transformed = transform_HorizontalFlip(image=image, mask=mask)\n",
        "  transformed_image = transformed['image']\n",
        "  transformed_mask = transformed['mask']\n",
        "\n",
        " \n",
        "\n",
        "  cv2.imwrite(covid_image_path + '/' + name[0] + '_3.' + name[1], transformed_image)\n",
        "  cv2.imwrite(covid_mask_path + '/' + name[0] + '_3.' + name[1], transformed_mask)\n",
        "\n",
        "  # 4\n",
        "  transformed = transform_VerticalFlip(image=image, mask=mask)\n",
        "  transformed_image = transformed['image']\n",
        "  transformed_mask = transformed['mask']\n",
        "\n",
        " \n",
        "\n",
        "  cv2.imwrite(covid_image_path + '/' + name[0] + '_4.' + name[1], transformed_image)\n",
        "  cv2.imwrite(covid_mask_path + '/' + name[0] + '_4.' + name[1], transformed_mask)\n",
        "\n",
        "  # 5\n",
        "  transformed = transform_5(image=image, mask=mask)\n",
        "  transformed_image = transformed['image']\n",
        "  transformed_mask = transformed['mask']\n",
        "\n",
        " \n",
        "\n",
        "  cv2.imwrite(covid_image_path + '/' + name[0] + '_5.' + name[1], transformed_image)\n",
        "  cv2.imwrite(covid_mask_path + '/' + name[0] + '_5.' + name[1], transformed_mask)\n",
        "\n",
        "  # 6\n",
        "  transformed = transform_6(image=image, mask=mask)\n",
        "  transformed_image = transformed['image']\n",
        "  transformed_mask = transformed['mask']\n",
        "\n",
        " \n",
        "  cv2.imwrite(covid_image_path + '/' + name[0] + '_6.' + name[1], transformed_image)\n",
        "  cv2.imwrite(covid_mask_path + '/' + name[0] + '_6.' + name[1], transformed_mask)\n",
        "\n",
        "  # 7\n",
        "  transformed = transform_7(image=image, mask=mask)\n",
        "  transformed_image = transformed['image']\n",
        "  transformed_mask = transformed['mask']\n",
        "\n",
        "  \n",
        "  cv2.imwrite(covid_image_path + '/' + name[0] + '_7.' + name[1], transformed_image)\n",
        "  cv2.imwrite(covid_mask_path + '/' + name[0] + '_7.' + name[1], transformed_mask)\n",
        "\n",
        "  # 8\n",
        "  transformed = transform_8(image=image, mask=mask)\n",
        "  transformed_image = transformed['image']\n",
        "  transformed_mask = transformed['mask']\n",
        "\n",
        " \n",
        "  cv2.imwrite(covid_image_path + '/' + name[0] + '_8.' + name[1], transformed_image)\n",
        "  cv2.imwrite(covid_mask_path + '/' + name[0] + '_8.' + name[1], transformed_mask)\n",
        "\n",
        "  # 9\n",
        "  transformed = transform_9(image=image, mask=mask)\n",
        "  transformed_image = transformed['image']\n",
        "  transformed_mask = transformed['mask']\n",
        "\n",
        "\n",
        "  cv2.imwrite(covid_image_path + '/' + name[0] + '_9.' + name[1], transformed_image)\n",
        "  cv2.imwrite(covid_mask_path + '/' + name[0] + '_9.' + name[1], transformed_mask)\n"
      ],
      "metadata": {
        "id": "cVPwuNdNdJJN"
      },
      "execution_count": null,
      "outputs": []
    },
    {
      "cell_type": "code",
      "source": [
        "def normal_augmentation(input_image, input_mask, file_name):\n",
        "  # original\n",
        "  image = np.array(input_image)\n",
        "  mask = np.array(input_mask)\n",
        "  \n",
        "  cv2.imwrite(normal_image_path + '/' + file_name, image)\n",
        "  cv2.imwrite(normal_mask_path + '/' + file_name, mask)\n",
        "\n",
        "  # 1\n",
        "  transformed = transform_Transpose(image=image, mask=mask)\n",
        "  transformed_image = transformed['image']\n",
        "  transformed_mask = transformed['mask']\n",
        "\n",
        "  \n",
        "  name = file_name.split('.')\n",
        "  cv2.imwrite(normal_image_path + '/' + name[0] + '_1.' + name[1], transformed_image)\n",
        "  cv2.imwrite(normal_mask_path + '/' + name[0] + '_1.' + name[1], transformed_mask)\n",
        "\n",
        "  # 2\n",
        "  transformed = transform_HorizontalFlip(image=image, mask=mask)\n",
        "  transformed_image = transformed['image']\n",
        "  transformed_mask = transformed['mask']\n",
        "\n",
        "  \n",
        "  cv2.imwrite(normal_image_path + '/' + name[0] + '_2.' + name[1], transformed_image)\n",
        "  cv2.imwrite(normal_mask_path + '/' + name[0] + '_2.' + name[1], transformed_mask)\n"
      ],
      "metadata": {
        "id": "Gc1kq9nDdJJO"
      },
      "execution_count": null,
      "outputs": []
    },
    {
      "cell_type": "code",
      "source": [
        "# COVID augmentation\n",
        "covid_image_full_path_list = [image_path_covid+i for i in image_list_covid]\n",
        "covid_mask_full_path_list = [mask_path_covid+i for i in mask_list_covid]\n",
        "\n",
        "for i in range(len(covid_image_full_path_list)):\n",
        "  covid_augmentation(read_image(covid_image_full_path_list[i]), read_mask(covid_mask_full_path_list[i]), image_list_covid[i])\n"
      ],
      "metadata": {
        "id": "Is06qX0qdJJO"
      },
      "execution_count": null,
      "outputs": []
    },
    {
      "cell_type": "code",
      "source": [
        "# Normal augmentation\n",
        "normal_image_full_path_list = [image_path_normal+i for i in image_list_normal]\n",
        "normal_mask_full_path_list = [mask_path_normal+i for i in mask_list_normal]\n",
        "\n",
        "\n",
        "for i in range(len(normal_image_full_path_list)):\n",
        "  normal_augmentation(read_image(normal_image_full_path_list[i]), read_mask(normal_mask_full_path_list[i]), image_list_normal[i])\n",
        "\n",
        "\n",
        "\n"
      ],
      "metadata": {
        "id": "up2dWMT1dJJP"
      },
      "execution_count": null,
      "outputs": []
    },
    {
      "cell_type": "code",
      "source": [
        "files = os.listdir(covid_mask_path)\n",
        "len(files)"
      ],
      "metadata": {
        "colab": {
          "base_uri": "https://localhost:8080/"
        },
        "id": "5LWzE-pM-ViH",
        "outputId": "b5f635a3-4cc8-40dc-c67c-92564f3e714d"
      },
      "execution_count": null,
      "outputs": [
        {
          "output_type": "execute_result",
          "data": {
            "text/plain": [
              "4390"
            ]
          },
          "metadata": {},
          "execution_count": 72
        }
      ]
    },
    {
      "cell_type": "code",
      "source": [
        "files = os.listdir(normal_mask_path)\n",
        "len(files)"
      ],
      "metadata": {
        "colab": {
          "base_uri": "https://localhost:8080/"
        },
        "id": "rACDFtXfEAoh",
        "outputId": "177ca605-9c93-4292-d07e-b01224d0204c"
      },
      "execution_count": null,
      "outputs": [
        {
          "output_type": "execute_result",
          "data": {
            "text/plain": [
              "4806"
            ]
          },
          "metadata": {},
          "execution_count": 65
        }
      ]
    },
    {
      "cell_type": "markdown",
      "source": [
        ""
      ],
      "metadata": {
        "id": "A8_aB9MLdJJQ"
      }
    }
  ]
}